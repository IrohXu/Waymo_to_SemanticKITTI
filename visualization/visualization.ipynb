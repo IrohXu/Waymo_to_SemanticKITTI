{
 "cells": [
  {
   "cell_type": "code",
   "execution_count": 1,
   "id": "def06162",
   "metadata": {},
   "outputs": [],
   "source": [
    "import numpy as np\n",
    "import mayavi.mlab"
   ]
  },
  {
   "cell_type": "code",
   "execution_count": 2,
   "id": "dd04ba23",
   "metadata": {},
   "outputs": [],
   "source": [
    "pointcloud = np.fromfile(str(\"000022.bin\"), dtype=np.float32, count=-1).reshape([-1, 4])\n",
    " \n",
    "x = pointcloud[:, 0]  # x position of point\n",
    "y = pointcloud[:, 1]  # y position of point\n",
    "z = pointcloud[:, 2]  # z position of point\n",
    " \n",
    "r = pointcloud[:, 3]  # reflectance value of point\n",
    "d = np.sqrt(x ** 2 + y ** 2)  # Map Distance from sensor\n",
    " \n",
    "degr = np.degrees(np.arctan(z / d))\n",
    " \n",
    "vals = 'height'\n",
    "if vals == \"height\":\n",
    "    col = z\n",
    "else:\n",
    "    col = d"
   ]
  },
  {
   "cell_type": "code",
   "execution_count": 3,
   "id": "7ac4efdb",
   "metadata": {},
   "outputs": [],
   "source": [
    "fig = mayavi.mlab.figure(bgcolor=(0, 0, 0), size=(640, 500))\n",
    "mayavi.mlab.points3d(x, y, z,\n",
    "                     col,  # Values used for Color\n",
    "                     mode=\"point\",\n",
    "                     colormap='spectral',  # 'bone', 'copper', 'gnuplot'\n",
    "                     # color=(0, 1, 0),   # Used a fixed (r,g,b) instead\n",
    "                     figure=fig,\n",
    "                     )\n",
    "mayavi.mlab.show()"
   ]
  }
 ],
 "metadata": {
  "kernelspec": {
   "display_name": "mayavi",
   "language": "python",
   "name": "mayavi"
  },
  "language_info": {
   "codemirror_mode": {
    "name": "ipython",
    "version": 3
   },
   "file_extension": ".py",
   "mimetype": "text/x-python",
   "name": "python",
   "nbconvert_exporter": "python",
   "pygments_lexer": "ipython3",
   "version": "3.8.13"
  }
 },
 "nbformat": 4,
 "nbformat_minor": 5
}
